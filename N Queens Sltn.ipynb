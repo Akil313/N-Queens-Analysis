{
 "cells": [
  {
   "cell_type": "code",
   "execution_count": 11,
   "id": "a4f668f8",
   "metadata": {},
   "outputs": [],
   "source": [
    "def disp_chess_board(board: list):\n",
    "    for row in board:\n",
    "        print(*row, sep='   ')"
   ]
  },
  {
   "cell_type": "code",
   "execution_count": 12,
   "id": "2f53d9bf",
   "metadata": {},
   "outputs": [
    {
     "name": "stdout",
     "output_type": "stream",
     "text": [
      "-1   -1   -1   -1\n",
      "-1   -1   -1   -1\n",
      "-1   -1   -1   -1\n",
      "-1   -1   -1   -1\n"
     ]
    }
   ],
   "source": [
    "chess_board = []\n",
    "chess_row = []\n",
    "\n",
    "N = 4\n",
    "\n",
    "for x in range(N):\n",
    "    chess_row = []\n",
    "    \n",
    "    for y in range(N):\n",
    "        chess_row.append(-1)\n",
    "        \n",
    "    chess_board.append(chess_row)\n",
    "    \n",
    "disp_chess_board(chess_board)"
   ]
  }
 ],
 "metadata": {
  "kernelspec": {
   "display_name": "Python 3",
   "language": "python",
   "name": "python3"
  },
  "language_info": {
   "codemirror_mode": {
    "name": "ipython",
    "version": 3
   },
   "file_extension": ".py",
   "mimetype": "text/x-python",
   "name": "python",
   "nbconvert_exporter": "python",
   "pygments_lexer": "ipython3",
   "version": "3.8.8"
  }
 },
 "nbformat": 4,
 "nbformat_minor": 5
}
