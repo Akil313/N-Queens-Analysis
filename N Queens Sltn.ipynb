{
 "cells": [
  {
   "cell_type": "code",
   "execution_count": 45,
   "metadata": {},
   "outputs": [],
   "source": [
    "class ChessBoard :\n",
    "    \n",
    "    def __init__(self, board):\n",
    "        self.board = board\n",
    "        self.display = []\n",
    "        self.size = len(board)\n",
    "        \n",
    "        for x in range(self.size):\n",
    "            row = []\n",
    "            for y in range(self.size):\n",
    "                if board[x] == y:\n",
    "                    row.append('Q')\n",
    "                else:\n",
    "                    row.append(1)\n",
    "                    \n",
    "            self.display.append(row)\n",
    "            \n",
    "    def disp_chess_board(self):\n",
    "        for row in self.display:\n",
    "            print(*row, sep='   ')\n",
    "            \n",
    "    def is_solution(self):\n",
    "        for x in range(len(self.board)-1):    \n",
    "            for y in range(x+1, len(self.board)):\n",
    "                    \n",
    "                if abs(x - y) == abs(self.board[x] - self.board[y]):\n",
    "                    return False    \n",
    "        return True\n",
    "        "
   ]
  },
  {
   "cell_type": "code",
   "execution_count": 46,
   "metadata": {},
   "outputs": [],
   "source": [
    "def init_bf_boards(board_list, board, size):\n",
    "    if len(board) == size:\n",
    "        board_list.append(board.copy())\n",
    "        return\n",
    "    \n",
    "    for col in range(size):\n",
    "        if(col not in board):\n",
    "            board.append(col)\n",
    "            init_bf_boards(board_list, board, size)\n",
    "            board.pop()\n",
    "            \n",
    "    return board_list"
   ]
  },
  {
   "cell_type": "code",
   "execution_count": 47,
   "metadata": {},
   "outputs": [],
   "source": [
    "def brute_force_approach(N):\n",
    "    \n",
    "    queen_solutions = []\n",
    "    board_list = init_bf_boards([], [], N)\n",
    "    \n",
    "    for board in board_list:\n",
    "        cb = ChessBoard(board)\n",
    "        \n",
    "        if cb.is_solution():\n",
    "            \n",
    "            queen_solutions.append(cb)\n",
    "        \n",
    "    return queen_solutions"
   ]
  },
  {
   "cell_type": "code",
   "execution_count": 48,
   "metadata": {},
   "outputs": [],
   "source": [
    "solutions = brute_force_approach(4)"
   ]
  },
  {
   "cell_type": "code",
   "execution_count": 49,
   "metadata": {},
   "outputs": [
    {
     "name": "stdout",
     "output_type": "stream",
     "text": [
      "1   1   Q   1\n",
      "Q   1   1   1\n",
      "1   1   1   Q\n",
      "1   Q   1   1\n"
     ]
    }
   ],
   "source": [
    "solutions[1].disp_chess_board()"
   ]
  },
  {
   "cell_type": "code",
   "execution_count": null,
   "metadata": {},
   "outputs": [],
   "source": []
  }
 ],
 "metadata": {
  "kernelspec": {
   "display_name": "Python 3",
   "language": "python",
   "name": "python3"
  },
  "language_info": {
   "codemirror_mode": {
    "name": "ipython",
    "version": 3
   },
   "file_extension": ".py",
   "mimetype": "text/x-python",
   "name": "python",
   "nbconvert_exporter": "python",
   "pygments_lexer": "ipython3",
   "version": "3.8.3"
  }
 },
 "nbformat": 4,
 "nbformat_minor": 5
}
