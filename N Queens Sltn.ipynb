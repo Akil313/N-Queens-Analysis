{
 "cells": [
  {
   "cell_type": "code",
   "execution_count": 1,
   "id": "6c18fc3b",
   "metadata": {},
   "outputs": [],
   "source": [
    "class ChessBoard :\n",
    "    \n",
    "    def __init__(self, board):\n",
    "        self.board = board\n",
    "        self.display = []\n",
    "        self.size = len(board)\n",
    "        \n",
    "        for x in range(self.size):\n",
    "            row = []\n",
    "            for y in range(self.size):\n",
    "                if board[x] == y:\n",
    "                    row.append('Q')\n",
    "                else:\n",
    "                    row.append(1)\n",
    "                    \n",
    "            self.display.append(row)\n",
    "            \n",
    "    def disp_chess_board(self):\n",
    "        for row in self.display:\n",
    "            print(*row, sep='   ')\n",
    "            \n",
    "    def is_solution(self):\n",
    "        for x in range(len(self.board)-1):    \n",
    "            for y in range(x+1, len(self.board)):\n",
    "                    \n",
    "                if abs(x - y) == abs(self.board[x] - self.board[y]):\n",
    "                    return False    \n",
    "        return True\n",
    "        "
   ]
  },
  {
   "cell_type": "code",
   "execution_count": 2,
   "id": "ae63df71",
   "metadata": {},
   "outputs": [],
   "source": [
    "def init_bf_boards(board_list, board, size):\n",
    "    if len(board) == size:\n",
    "        board_list.append(board.copy())\n",
    "        return\n",
    "    \n",
    "    for col in range(size):\n",
    "        if(col not in board):\n",
    "            board.append(col)\n",
    "            init_bf_boards(board_list, board, size)\n",
    "            board.pop()\n",
    "            \n",
    "    return board_list"
   ]
  },
  {
   "cell_type": "code",
   "execution_count": 3,
   "id": "1fa0d7bc",
   "metadata": {},
   "outputs": [],
   "source": [
    "def brute_force_approach(N):\n",
    "    \n",
    "    queen_solutions = []\n",
    "    board_list = init_bf_boards([], [], N)\n",
    "    \n",
    "    for board in board_list:\n",
    "        cb = ChessBoard(board)\n",
    "        \n",
    "        if cb.is_solution():\n",
    "            \n",
    "            queen_solutions.append(cb)\n",
    "        \n",
    "    return queen_solutions"
   ]
  },
  {
   "cell_type": "code",
   "execution_count": 4,
   "id": "7f165373",
   "metadata": {},
   "outputs": [],
   "source": [
    "solutions = brute_force_approach(4)"
   ]
  },
  {
   "cell_type": "code",
   "execution_count": 5,
   "id": "79ae8a2e",
   "metadata": {},
   "outputs": [
    {
     "name": "stdout",
     "output_type": "stream",
     "text": [
      "1   1   Q   1\n",
      "Q   1   1   1\n",
      "1   1   1   Q\n",
      "1   Q   1   1\n"
     ]
    }
   ],
   "source": [
    "solutions[1].disp_chess_board()"
   ]
  },
  {
   "cell_type": "code",
   "execution_count": 6,
   "id": "686ae928",
   "metadata": {},
   "outputs": [
    {
     "data": {
      "text/plain": [
       "2"
      ]
     },
     "execution_count": 6,
     "metadata": {},
     "output_type": "execute_result"
    }
   ],
   "source": [
    "len(solutions)"
   ]
  },
  {
   "cell_type": "code",
   "execution_count": 21,
   "id": "7d633aec",
   "metadata": {},
   "outputs": [],
   "source": [
    "result = []\n",
    "\n",
    "''' A utility function to check if a queen can\n",
    "be placed on board[row][col]. Note that this\n",
    "function is called when \"col\" queens are\n",
    "already placed in columns from 0 to col -1.\n",
    "So we need to check only left side for\n",
    "attacking queens '''\n",
    "\n",
    "def isSafe(board, row, col, n):\n",
    "    \n",
    "    for i in range(col):\n",
    "        if (board[row][i]):\n",
    "            return False\n",
    "        \n",
    "    # Check upper diagonal on left side\n",
    "    i = row\n",
    "    j = col\n",
    "    \n",
    "    while i >= 0 and j >= 0:\n",
    "        if(board[i][j]):\n",
    "            return False\n",
    "        \n",
    "        i -= 1\n",
    "        j -= 1\n",
    "        \n",
    "    # Check lower diagonal on left side\n",
    "    i = row\n",
    "    j = col\n",
    "    \n",
    "    while j>= 0 and i < n:\n",
    "        if(board[i][j]):\n",
    "            return False\n",
    "        \n",
    "        i = i + 1\n",
    "        j = j - 1\n",
    "        \n",
    "    return True\n",
    "\n",
    "''' A recursive utility function to solve N\n",
    "Queen problem '''\n",
    "\n",
    "def solveNQUtil(board, col, n):\n",
    "    ''' base case: If all queens are placed thenb return true'''\n",
    "    if (col == n):\n",
    "        v = []\n",
    "        for i in board:\n",
    "            for j in range(len(i)):\n",
    "                if i[j] == 1:\n",
    "                    v.append(j+1)\n",
    "        \n",
    "        result.append(v)\n",
    "        return True\n",
    "    \n",
    "    ''' Consider this column and try placing this queen in all rows one by one'''\n",
    "    \n",
    "    res = False\n",
    "    for i in range(n):\n",
    "        \n",
    "        ''' Check if queen can be placed on board[i][col]'''\n",
    "        \n",
    "        if (isSafe(board, i, col, n)):\n",
    "            \n",
    "            # Place this queen in board[i][col]\n",
    "            board[i][col] = 1\n",
    "            \n",
    "            #Make result true if any placement is possible\n",
    "            res = solveNQUtil(board, col + 1, n) or res\n",
    "            \n",
    "            '''If placing queen in board[i][col] doesnt\n",
    "            lead to a solution, then remove queen from board[i][col]'''\n",
    "            board[i][col] = 0   # BACKTRACK\n",
    "            \n",
    "        ''' If queen can not be placed in any row in this\n",
    "        column col then return false'''\n",
    "        \n",
    "    return res\n",
    "\n",
    "''' This function solves the N Queen problem using\n",
    "Backtracking. It mainly uses solveNQUtil() to\n",
    "solve the problem. It returns false if queens\n",
    "cannot be placed, otherwise return true and\n",
    "prints placement of queens in the form of 1s.\n",
    "Please note that there may be more than one\n",
    "solutions, this function prints one of the\n",
    "feasible solutions.'''\n",
    "\n",
    "def solveNQ(n):\n",
    "    result.clear()\n",
    "    \n",
    "    board = [[0 for j in range(n)] for i in range(n)]\n",
    "    \n",
    "    solveNQUtil(board, 0, n)\n",
    "    result.sort()\n",
    "    \n",
    "    return result"
   ]
  },
  {
   "cell_type": "code",
   "execution_count": 26,
   "id": "3bb2fcec",
   "metadata": {},
   "outputs": [
    {
     "name": "stdout",
     "output_type": "stream",
     "text": [
      "[[1, 3, 5, 2, 4], [1, 4, 2, 5, 3], [2, 4, 1, 3, 5], [2, 5, 3, 1, 4], [3, 1, 4, 2, 5], [3, 5, 2, 4, 1], [4, 1, 3, 5, 2], [4, 2, 5, 3, 1], [5, 2, 4, 1, 3], [5, 3, 1, 4, 2]]\n"
     ]
    }
   ],
   "source": [
    "# Driver Code\n",
    "n = 5\n",
    "res = solveNQ(n)\n",
    "print(res)"
   ]
  }
 ],
 "metadata": {
  "kernelspec": {
   "display_name": "Python 3",
   "language": "python",
   "name": "python3"
  },
  "language_info": {
   "codemirror_mode": {
    "name": "ipython",
    "version": 3
   },
   "file_extension": ".py",
   "mimetype": "text/x-python",
   "name": "python",
   "nbconvert_exporter": "python",
   "pygments_lexer": "ipython3",
   "version": "3.8.8"
  }
 },
 "nbformat": 4,
 "nbformat_minor": 5
}
