{
 "cells": [
  {
   "cell_type": "code",
   "execution_count": 6,
   "metadata": {},
   "outputs": [],
   "source": [
    "class ChessBoard :\n",
    "    \n",
    "    def __init__(self, size):\n",
    "        self.size = size\n",
    "        self.chess_board = []\n",
    "        self.queens_placed = 0\n",
    "        \n",
    "        for x in range(size):\n",
    "            chess_row = []\n",
    "            \n",
    "            for y in range(size):\n",
    "                chess_row.append(-1)\n",
    "                \n",
    "            self.chess_board.append(chess_row)\n",
    "            \n",
    "    def disp_chess_board(self):\n",
    "        for row in self.chess_board:\n",
    "            print(*row, sep='   ')\n",
    "            \n",
    "    def set_cell_queen(self, x, y):\n",
    "        if self.queens_placed < size:\n",
    "            self.chess_board[x][y] = 'Q'\n",
    "            self.queens_places += 1\n",
    "        \n",
    "    def set_cell_empty(self, x, y):\n",
    "        self.chess_board[x][y] = -1"
   ]
  },
  {
   "cell_type": "code",
   "execution_count": 10,
   "metadata": {},
   "outputs": [
    {
     "name": "stdout",
     "output_type": "stream",
     "text": [
      "-1   -1   -1   -1\n",
      "-1   -1   -1   -1\n",
      "-1   -1   -1   -1\n",
      "-1   -1   -1   -1\n"
     ]
    }
   ],
   "source": [
    "b1 = ChessBoard(4)\n",
    "\n",
    "b1.disp_chess_board()"
   ]
  },
  {
   "cell_type": "code",
   "execution_count": null,
   "metadata": {},
   "outputs": [],
   "source": [
    "def brute_force_approach(board):\n",
    "    \n",
    "    while board.queens_placed < board.size:\n",
    "        for q1 "
   ]
  },
  {
   "cell_type": "code",
   "execution_count": 12,
   "metadata": {},
   "outputs": [
    {
     "name": "stdout",
     "output_type": "stream",
     "text": [
      "-1   -1   -1   -1\n",
      "-1   -1   -1   -1\n",
      "-1   -1   -1   -1\n",
      "-1   -1   -1   -1\n"
     ]
    }
   ],
   "source": [
    "chess_board = []\n",
    "chess_row = []\n",
    "\n",
    "N = 4\n",
    "\n",
    "for x in range(N):\n",
    "    chess_row = []\n",
    "    \n",
    "    for y in range(N):\n",
    "        chess_row.append(-1)\n",
    "        \n",
    "    chess_board.append(chess_row)\n",
    "    \n",
    "disp_chess_board(chess_board)"
   ]
  },
  {
   "cell_type": "code",
   "execution_count": null,
   "metadata": {},
   "outputs": [],
   "source": []
  }
 ],
 "metadata": {
  "kernelspec": {
   "display_name": "Python 3",
   "language": "python",
   "name": "python3"
  },
  "language_info": {
   "codemirror_mode": {
    "name": "ipython",
    "version": 3
   },
   "file_extension": ".py",
   "mimetype": "text/x-python",
   "name": "python",
   "nbconvert_exporter": "python",
   "pygments_lexer": "ipython3",
   "version": "3.8.3"
  }
 },
 "nbformat": 4,
 "nbformat_minor": 5
}
