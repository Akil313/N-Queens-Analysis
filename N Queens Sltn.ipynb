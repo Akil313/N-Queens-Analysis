{
 "cells": [
  {
   "cell_type": "code",
   "execution_count": 22,
   "metadata": {},
   "outputs": [],
   "source": [
    "import numpy as np\n",
    "import matplotlib.pyplot as plt\n",
    "import seaborn as sns\n",
    "import cProfile, pstats"
   ]
  },
  {
   "cell_type": "code",
   "execution_count": 2,
   "metadata": {},
   "outputs": [],
   "source": [
    "class ChessBoard :\n",
    "    \n",
    "    def __init__(self, board):\n",
    "        self.board = board\n",
    "        self.display = []\n",
    "        self.size = len(board)\n",
    "        \n",
    "        for x in range(self.size):\n",
    "            row = []\n",
    "            for y in range(self.size):\n",
    "                if board[x] == y:\n",
    "                    row.append('Q')\n",
    "                else:\n",
    "                    row.append(1)\n",
    "                    \n",
    "            self.display.append(row)\n",
    "            \n",
    "    def disp_chess_board(self):\n",
    "        for row in self.display:\n",
    "            print(*row, sep='   ')\n",
    "            \n",
    "    def is_solution(self):\n",
    "        for x in range(len(self.board)-1):    \n",
    "            for y in range(x+1, len(self.board)):\n",
    "                    \n",
    "                if abs(x - y) == abs(self.board[x] - self.board[y]):\n",
    "                    return False    \n",
    "        return True\n",
    "        "
   ]
  },
  {
   "cell_type": "code",
   "execution_count": 3,
   "metadata": {},
   "outputs": [],
   "source": [
    "def init_bf_boards(board_list, board, size):\n",
    "    if len(board) == size:\n",
    "        board_list.append(board.copy())\n",
    "        return\n",
    "    \n",
    "    for col in range(size):\n",
    "        if(col not in board):\n",
    "            board.append(col)\n",
    "            init_bf_boards(board_list, board, size)\n",
    "            board.pop()\n",
    "            \n",
    "    return board_list"
   ]
  },
  {
   "cell_type": "code",
   "execution_count": 4,
   "metadata": {},
   "outputs": [],
   "source": [
    "def brute_force_approach(N):\n",
    "    \n",
    "    queen_solutions = []\n",
    "    board_list = init_bf_boards([], [], N)\n",
    "    \n",
    "    for board in board_list:\n",
    "        cb = ChessBoard(board)\n",
    "        \n",
    "        if cb.is_solution():\n",
    "            \n",
    "            queen_solutions.append(cb)\n",
    "        \n",
    "    return queen_solutions"
   ]
  },
  {
   "cell_type": "code",
   "execution_count": 5,
   "metadata": {},
   "outputs": [],
   "source": [
    "solutions = brute_force_approach(4)"
   ]
  },
  {
   "cell_type": "code",
   "execution_count": 6,
   "metadata": {},
   "outputs": [
    {
     "name": "stdout",
     "output_type": "stream",
     "text": [
      "1   1   Q   1\n",
      "Q   1   1   1\n",
      "1   1   1   Q\n",
      "1   Q   1   1\n"
     ]
    }
   ],
   "source": [
    "solutions[1].disp_chess_board()"
   ]
  },
  {
   "cell_type": "code",
   "execution_count": 7,
   "metadata": {},
   "outputs": [],
   "source": [
    "result = []\n",
    "\n",
    "''' A utility function to check if a queen can\n",
    "be placed on board[row][col]. Note that this\n",
    "function is called when \"col\" queens are\n",
    "already placed in columns from 0 to col -1.\n",
    "So we need to check only left side for\n",
    "attacking queens '''\n",
    "\n",
    "def isSafe(board, row, col, n):\n",
    "    \n",
    "    for i in range(col):\n",
    "        if (board[row][i]):\n",
    "            return False\n",
    "        \n",
    "    # Check upper diagonal on left side\n",
    "    i = row\n",
    "    j = col\n",
    "    \n",
    "    while i >= 0 and j >= 0:\n",
    "        if(board[i][j]):\n",
    "            return False\n",
    "        \n",
    "        i -= 1\n",
    "        j -= 1\n",
    "        \n",
    "    # Check lower diagonal on left side\n",
    "    i = row\n",
    "    j = col\n",
    "    \n",
    "    while j>= 0 and i < n:\n",
    "        if(board[i][j]):\n",
    "            return False\n",
    "        \n",
    "        i = i + 1\n",
    "        j = j - 1\n",
    "        \n",
    "    return True\n",
    "\n",
    "''' A recursive utility function to solve N\n",
    "Queen problem '''\n",
    "\n",
    "def solveNQUtil(board, col, n):\n",
    "    ''' base case: If all queens are placed thenb return true'''\n",
    "    if (col == n):\n",
    "        v = []\n",
    "        for i in board:\n",
    "            for j in range(len(i)):\n",
    "                if i[j] == 1:\n",
    "                    v.append(j)\n",
    "        \n",
    "        result.append(v)\n",
    "        return True\n",
    "    \n",
    "    ''' Consider this column and try placing this queen in all rows one by one'''\n",
    "    \n",
    "    res = False\n",
    "    for i in range(n):\n",
    "        \n",
    "        ''' Check if queen can be placed on board[i][col]'''\n",
    "        \n",
    "        if (isSafe(board, i, col, n)):\n",
    "            \n",
    "            # Place this queen in board[i][col]\n",
    "            board[i][col] = 1\n",
    "            \n",
    "            #Make result true if any placement is possible\n",
    "            res = solveNQUtil(board, col + 1, n) or res\n",
    "            \n",
    "            '''If placing queen in board[i][col] doesnt\n",
    "            lead to a solution, then remove queen from board[i][col]'''\n",
    "            board[i][col] = 0   # BACKTRACK\n",
    "            \n",
    "        ''' If queen can not be placed in any row in this\n",
    "        column col then return false'''\n",
    "        \n",
    "    return res\n",
    "\n",
    "''' This function solves the N Queen problem using\n",
    "Backtracking. It mainly uses solveNQUtil() to\n",
    "solve the problem. It returns false if queens\n",
    "cannot be placed, otherwise return true and\n",
    "prints placement of queens in the form of 1s.\n",
    "Please note that there may be more than one\n",
    "solutions, this function prints one of the\n",
    "feasible solutions.'''\n",
    "\n",
    "def solveNQ(n):\n",
    "    result.clear()\n",
    "    \n",
    "    board = [[0 for j in range(n)] for i in range(n)]\n",
    "    \n",
    "    solveNQUtil(board, 0, n)\n",
    "    result.sort()\n",
    "    \n",
    "    return result"
   ]
  },
  {
   "cell_type": "code",
   "execution_count": 8,
   "metadata": {},
   "outputs": [],
   "source": [
    "# Driver Code\n",
    "n = 8\n",
    "res = solveNQ(n)"
   ]
  },
  {
   "cell_type": "code",
   "execution_count": 31,
   "metadata": {},
   "outputs": [
    {
     "ename": "KeyboardInterrupt",
     "evalue": "",
     "output_type": "error",
     "traceback": [
      "\u001b[1;31m---------------------------------------------------------------------------\u001b[0m",
      "\u001b[1;31mKeyboardInterrupt\u001b[0m                         Traceback (most recent call last)",
      "\u001b[1;32m<ipython-input-31-9878aa592e3f>\u001b[0m in \u001b[0;36m<module>\u001b[1;34m\u001b[0m\n\u001b[0;32m      2\u001b[0m \u001b[1;33m\u001b[0m\u001b[0m\n\u001b[0;32m      3\u001b[0m \u001b[0mprofiler\u001b[0m\u001b[1;33m.\u001b[0m\u001b[0menable\u001b[0m\u001b[1;33m(\u001b[0m\u001b[1;33m)\u001b[0m\u001b[1;33m\u001b[0m\u001b[1;33m\u001b[0m\u001b[0m\n\u001b[1;32m----> 4\u001b[1;33m \u001b[0msolveNQ\u001b[0m\u001b[1;33m(\u001b[0m\u001b[1;36m15\u001b[0m\u001b[1;33m)\u001b[0m\u001b[1;33m\u001b[0m\u001b[1;33m\u001b[0m\u001b[0m\n\u001b[0m\u001b[0;32m      5\u001b[0m \u001b[0mprofiler\u001b[0m\u001b[1;33m.\u001b[0m\u001b[0mdisable\u001b[0m\u001b[1;33m(\u001b[0m\u001b[1;33m)\u001b[0m\u001b[1;33m\u001b[0m\u001b[1;33m\u001b[0m\u001b[0m\n\u001b[0;32m      6\u001b[0m \u001b[1;33m\u001b[0m\u001b[0m\n",
      "\u001b[1;32m<ipython-input-7-609a893b41e6>\u001b[0m in \u001b[0;36msolveNQ\u001b[1;34m(n)\u001b[0m\n\u001b[0;32m     91\u001b[0m     \u001b[0mboard\u001b[0m \u001b[1;33m=\u001b[0m \u001b[1;33m[\u001b[0m\u001b[1;33m[\u001b[0m\u001b[1;36m0\u001b[0m \u001b[1;32mfor\u001b[0m \u001b[0mj\u001b[0m \u001b[1;32min\u001b[0m \u001b[0mrange\u001b[0m\u001b[1;33m(\u001b[0m\u001b[0mn\u001b[0m\u001b[1;33m)\u001b[0m\u001b[1;33m]\u001b[0m \u001b[1;32mfor\u001b[0m \u001b[0mi\u001b[0m \u001b[1;32min\u001b[0m \u001b[0mrange\u001b[0m\u001b[1;33m(\u001b[0m\u001b[0mn\u001b[0m\u001b[1;33m)\u001b[0m\u001b[1;33m]\u001b[0m\u001b[1;33m\u001b[0m\u001b[1;33m\u001b[0m\u001b[0m\n\u001b[0;32m     92\u001b[0m \u001b[1;33m\u001b[0m\u001b[0m\n\u001b[1;32m---> 93\u001b[1;33m     \u001b[0msolveNQUtil\u001b[0m\u001b[1;33m(\u001b[0m\u001b[0mboard\u001b[0m\u001b[1;33m,\u001b[0m \u001b[1;36m0\u001b[0m\u001b[1;33m,\u001b[0m \u001b[0mn\u001b[0m\u001b[1;33m)\u001b[0m\u001b[1;33m\u001b[0m\u001b[1;33m\u001b[0m\u001b[0m\n\u001b[0m\u001b[0;32m     94\u001b[0m     \u001b[0mresult\u001b[0m\u001b[1;33m.\u001b[0m\u001b[0msort\u001b[0m\u001b[1;33m(\u001b[0m\u001b[1;33m)\u001b[0m\u001b[1;33m\u001b[0m\u001b[1;33m\u001b[0m\u001b[0m\n\u001b[0;32m     95\u001b[0m \u001b[1;33m\u001b[0m\u001b[0m\n",
      "\u001b[1;32m<ipython-input-7-609a893b41e6>\u001b[0m in \u001b[0;36msolveNQUtil\u001b[1;34m(board, col, n)\u001b[0m\n\u001b[0;32m     66\u001b[0m \u001b[1;33m\u001b[0m\u001b[0m\n\u001b[0;32m     67\u001b[0m             \u001b[1;31m#Make result true if any placement is possible\u001b[0m\u001b[1;33m\u001b[0m\u001b[1;33m\u001b[0m\u001b[1;33m\u001b[0m\u001b[0m\n\u001b[1;32m---> 68\u001b[1;33m             \u001b[0mres\u001b[0m \u001b[1;33m=\u001b[0m \u001b[0msolveNQUtil\u001b[0m\u001b[1;33m(\u001b[0m\u001b[0mboard\u001b[0m\u001b[1;33m,\u001b[0m \u001b[0mcol\u001b[0m \u001b[1;33m+\u001b[0m \u001b[1;36m1\u001b[0m\u001b[1;33m,\u001b[0m \u001b[0mn\u001b[0m\u001b[1;33m)\u001b[0m \u001b[1;32mor\u001b[0m \u001b[0mres\u001b[0m\u001b[1;33m\u001b[0m\u001b[1;33m\u001b[0m\u001b[0m\n\u001b[0m\u001b[0;32m     69\u001b[0m \u001b[1;33m\u001b[0m\u001b[0m\n\u001b[0;32m     70\u001b[0m             '''If placing queen in board[i][col] doesnt\n",
      "\u001b[1;32m<ipython-input-7-609a893b41e6>\u001b[0m in \u001b[0;36msolveNQUtil\u001b[1;34m(board, col, n)\u001b[0m\n\u001b[0;32m     66\u001b[0m \u001b[1;33m\u001b[0m\u001b[0m\n\u001b[0;32m     67\u001b[0m             \u001b[1;31m#Make result true if any placement is possible\u001b[0m\u001b[1;33m\u001b[0m\u001b[1;33m\u001b[0m\u001b[1;33m\u001b[0m\u001b[0m\n\u001b[1;32m---> 68\u001b[1;33m             \u001b[0mres\u001b[0m \u001b[1;33m=\u001b[0m \u001b[0msolveNQUtil\u001b[0m\u001b[1;33m(\u001b[0m\u001b[0mboard\u001b[0m\u001b[1;33m,\u001b[0m \u001b[0mcol\u001b[0m \u001b[1;33m+\u001b[0m \u001b[1;36m1\u001b[0m\u001b[1;33m,\u001b[0m \u001b[0mn\u001b[0m\u001b[1;33m)\u001b[0m \u001b[1;32mor\u001b[0m \u001b[0mres\u001b[0m\u001b[1;33m\u001b[0m\u001b[1;33m\u001b[0m\u001b[0m\n\u001b[0m\u001b[0;32m     69\u001b[0m \u001b[1;33m\u001b[0m\u001b[0m\n\u001b[0;32m     70\u001b[0m             '''If placing queen in board[i][col] doesnt\n",
      "\u001b[1;32m<ipython-input-7-609a893b41e6>\u001b[0m in \u001b[0;36msolveNQUtil\u001b[1;34m(board, col, n)\u001b[0m\n\u001b[0;32m     66\u001b[0m \u001b[1;33m\u001b[0m\u001b[0m\n\u001b[0;32m     67\u001b[0m             \u001b[1;31m#Make result true if any placement is possible\u001b[0m\u001b[1;33m\u001b[0m\u001b[1;33m\u001b[0m\u001b[1;33m\u001b[0m\u001b[0m\n\u001b[1;32m---> 68\u001b[1;33m             \u001b[0mres\u001b[0m \u001b[1;33m=\u001b[0m \u001b[0msolveNQUtil\u001b[0m\u001b[1;33m(\u001b[0m\u001b[0mboard\u001b[0m\u001b[1;33m,\u001b[0m \u001b[0mcol\u001b[0m \u001b[1;33m+\u001b[0m \u001b[1;36m1\u001b[0m\u001b[1;33m,\u001b[0m \u001b[0mn\u001b[0m\u001b[1;33m)\u001b[0m \u001b[1;32mor\u001b[0m \u001b[0mres\u001b[0m\u001b[1;33m\u001b[0m\u001b[1;33m\u001b[0m\u001b[0m\n\u001b[0m\u001b[0;32m     69\u001b[0m \u001b[1;33m\u001b[0m\u001b[0m\n\u001b[0;32m     70\u001b[0m             '''If placing queen in board[i][col] doesnt\n",
      "\u001b[1;32m<ipython-input-7-609a893b41e6>\u001b[0m in \u001b[0;36msolveNQUtil\u001b[1;34m(board, col, n)\u001b[0m\n\u001b[0;32m     66\u001b[0m \u001b[1;33m\u001b[0m\u001b[0m\n\u001b[0;32m     67\u001b[0m             \u001b[1;31m#Make result true if any placement is possible\u001b[0m\u001b[1;33m\u001b[0m\u001b[1;33m\u001b[0m\u001b[1;33m\u001b[0m\u001b[0m\n\u001b[1;32m---> 68\u001b[1;33m             \u001b[0mres\u001b[0m \u001b[1;33m=\u001b[0m \u001b[0msolveNQUtil\u001b[0m\u001b[1;33m(\u001b[0m\u001b[0mboard\u001b[0m\u001b[1;33m,\u001b[0m \u001b[0mcol\u001b[0m \u001b[1;33m+\u001b[0m \u001b[1;36m1\u001b[0m\u001b[1;33m,\u001b[0m \u001b[0mn\u001b[0m\u001b[1;33m)\u001b[0m \u001b[1;32mor\u001b[0m \u001b[0mres\u001b[0m\u001b[1;33m\u001b[0m\u001b[1;33m\u001b[0m\u001b[0m\n\u001b[0m\u001b[0;32m     69\u001b[0m \u001b[1;33m\u001b[0m\u001b[0m\n\u001b[0;32m     70\u001b[0m             '''If placing queen in board[i][col] doesnt\n",
      "\u001b[1;32m<ipython-input-7-609a893b41e6>\u001b[0m in \u001b[0;36msolveNQUtil\u001b[1;34m(board, col, n)\u001b[0m\n\u001b[0;32m     66\u001b[0m \u001b[1;33m\u001b[0m\u001b[0m\n\u001b[0;32m     67\u001b[0m             \u001b[1;31m#Make result true if any placement is possible\u001b[0m\u001b[1;33m\u001b[0m\u001b[1;33m\u001b[0m\u001b[1;33m\u001b[0m\u001b[0m\n\u001b[1;32m---> 68\u001b[1;33m             \u001b[0mres\u001b[0m \u001b[1;33m=\u001b[0m \u001b[0msolveNQUtil\u001b[0m\u001b[1;33m(\u001b[0m\u001b[0mboard\u001b[0m\u001b[1;33m,\u001b[0m \u001b[0mcol\u001b[0m \u001b[1;33m+\u001b[0m \u001b[1;36m1\u001b[0m\u001b[1;33m,\u001b[0m \u001b[0mn\u001b[0m\u001b[1;33m)\u001b[0m \u001b[1;32mor\u001b[0m \u001b[0mres\u001b[0m\u001b[1;33m\u001b[0m\u001b[1;33m\u001b[0m\u001b[0m\n\u001b[0m\u001b[0;32m     69\u001b[0m \u001b[1;33m\u001b[0m\u001b[0m\n\u001b[0;32m     70\u001b[0m             '''If placing queen in board[i][col] doesnt\n",
      "\u001b[1;32m<ipython-input-7-609a893b41e6>\u001b[0m in \u001b[0;36msolveNQUtil\u001b[1;34m(board, col, n)\u001b[0m\n\u001b[0;32m     66\u001b[0m \u001b[1;33m\u001b[0m\u001b[0m\n\u001b[0;32m     67\u001b[0m             \u001b[1;31m#Make result true if any placement is possible\u001b[0m\u001b[1;33m\u001b[0m\u001b[1;33m\u001b[0m\u001b[1;33m\u001b[0m\u001b[0m\n\u001b[1;32m---> 68\u001b[1;33m             \u001b[0mres\u001b[0m \u001b[1;33m=\u001b[0m \u001b[0msolveNQUtil\u001b[0m\u001b[1;33m(\u001b[0m\u001b[0mboard\u001b[0m\u001b[1;33m,\u001b[0m \u001b[0mcol\u001b[0m \u001b[1;33m+\u001b[0m \u001b[1;36m1\u001b[0m\u001b[1;33m,\u001b[0m \u001b[0mn\u001b[0m\u001b[1;33m)\u001b[0m \u001b[1;32mor\u001b[0m \u001b[0mres\u001b[0m\u001b[1;33m\u001b[0m\u001b[1;33m\u001b[0m\u001b[0m\n\u001b[0m\u001b[0;32m     69\u001b[0m \u001b[1;33m\u001b[0m\u001b[0m\n\u001b[0;32m     70\u001b[0m             '''If placing queen in board[i][col] doesnt\n",
      "\u001b[1;32m<ipython-input-7-609a893b41e6>\u001b[0m in \u001b[0;36msolveNQUtil\u001b[1;34m(board, col, n)\u001b[0m\n\u001b[0;32m     66\u001b[0m \u001b[1;33m\u001b[0m\u001b[0m\n\u001b[0;32m     67\u001b[0m             \u001b[1;31m#Make result true if any placement is possible\u001b[0m\u001b[1;33m\u001b[0m\u001b[1;33m\u001b[0m\u001b[1;33m\u001b[0m\u001b[0m\n\u001b[1;32m---> 68\u001b[1;33m             \u001b[0mres\u001b[0m \u001b[1;33m=\u001b[0m \u001b[0msolveNQUtil\u001b[0m\u001b[1;33m(\u001b[0m\u001b[0mboard\u001b[0m\u001b[1;33m,\u001b[0m \u001b[0mcol\u001b[0m \u001b[1;33m+\u001b[0m \u001b[1;36m1\u001b[0m\u001b[1;33m,\u001b[0m \u001b[0mn\u001b[0m\u001b[1;33m)\u001b[0m \u001b[1;32mor\u001b[0m \u001b[0mres\u001b[0m\u001b[1;33m\u001b[0m\u001b[1;33m\u001b[0m\u001b[0m\n\u001b[0m\u001b[0;32m     69\u001b[0m \u001b[1;33m\u001b[0m\u001b[0m\n\u001b[0;32m     70\u001b[0m             '''If placing queen in board[i][col] doesnt\n",
      "\u001b[1;32m<ipython-input-7-609a893b41e6>\u001b[0m in \u001b[0;36msolveNQUtil\u001b[1;34m(board, col, n)\u001b[0m\n\u001b[0;32m     66\u001b[0m \u001b[1;33m\u001b[0m\u001b[0m\n\u001b[0;32m     67\u001b[0m             \u001b[1;31m#Make result true if any placement is possible\u001b[0m\u001b[1;33m\u001b[0m\u001b[1;33m\u001b[0m\u001b[1;33m\u001b[0m\u001b[0m\n\u001b[1;32m---> 68\u001b[1;33m             \u001b[0mres\u001b[0m \u001b[1;33m=\u001b[0m \u001b[0msolveNQUtil\u001b[0m\u001b[1;33m(\u001b[0m\u001b[0mboard\u001b[0m\u001b[1;33m,\u001b[0m \u001b[0mcol\u001b[0m \u001b[1;33m+\u001b[0m \u001b[1;36m1\u001b[0m\u001b[1;33m,\u001b[0m \u001b[0mn\u001b[0m\u001b[1;33m)\u001b[0m \u001b[1;32mor\u001b[0m \u001b[0mres\u001b[0m\u001b[1;33m\u001b[0m\u001b[1;33m\u001b[0m\u001b[0m\n\u001b[0m\u001b[0;32m     69\u001b[0m \u001b[1;33m\u001b[0m\u001b[0m\n\u001b[0;32m     70\u001b[0m             '''If placing queen in board[i][col] doesnt\n",
      "\u001b[1;32m<ipython-input-7-609a893b41e6>\u001b[0m in \u001b[0;36msolveNQUtil\u001b[1;34m(board, col, n)\u001b[0m\n\u001b[0;32m     66\u001b[0m \u001b[1;33m\u001b[0m\u001b[0m\n\u001b[0;32m     67\u001b[0m             \u001b[1;31m#Make result true if any placement is possible\u001b[0m\u001b[1;33m\u001b[0m\u001b[1;33m\u001b[0m\u001b[1;33m\u001b[0m\u001b[0m\n\u001b[1;32m---> 68\u001b[1;33m             \u001b[0mres\u001b[0m \u001b[1;33m=\u001b[0m \u001b[0msolveNQUtil\u001b[0m\u001b[1;33m(\u001b[0m\u001b[0mboard\u001b[0m\u001b[1;33m,\u001b[0m \u001b[0mcol\u001b[0m \u001b[1;33m+\u001b[0m \u001b[1;36m1\u001b[0m\u001b[1;33m,\u001b[0m \u001b[0mn\u001b[0m\u001b[1;33m)\u001b[0m \u001b[1;32mor\u001b[0m \u001b[0mres\u001b[0m\u001b[1;33m\u001b[0m\u001b[1;33m\u001b[0m\u001b[0m\n\u001b[0m\u001b[0;32m     69\u001b[0m \u001b[1;33m\u001b[0m\u001b[0m\n\u001b[0;32m     70\u001b[0m             '''If placing queen in board[i][col] doesnt\n",
      "\u001b[1;32m<ipython-input-7-609a893b41e6>\u001b[0m in \u001b[0;36msolveNQUtil\u001b[1;34m(board, col, n)\u001b[0m\n\u001b[0;32m     66\u001b[0m \u001b[1;33m\u001b[0m\u001b[0m\n\u001b[0;32m     67\u001b[0m             \u001b[1;31m#Make result true if any placement is possible\u001b[0m\u001b[1;33m\u001b[0m\u001b[1;33m\u001b[0m\u001b[1;33m\u001b[0m\u001b[0m\n\u001b[1;32m---> 68\u001b[1;33m             \u001b[0mres\u001b[0m \u001b[1;33m=\u001b[0m \u001b[0msolveNQUtil\u001b[0m\u001b[1;33m(\u001b[0m\u001b[0mboard\u001b[0m\u001b[1;33m,\u001b[0m \u001b[0mcol\u001b[0m \u001b[1;33m+\u001b[0m \u001b[1;36m1\u001b[0m\u001b[1;33m,\u001b[0m \u001b[0mn\u001b[0m\u001b[1;33m)\u001b[0m \u001b[1;32mor\u001b[0m \u001b[0mres\u001b[0m\u001b[1;33m\u001b[0m\u001b[1;33m\u001b[0m\u001b[0m\n\u001b[0m\u001b[0;32m     69\u001b[0m \u001b[1;33m\u001b[0m\u001b[0m\n\u001b[0;32m     70\u001b[0m             '''If placing queen in board[i][col] doesnt\n",
      "\u001b[1;32m<ipython-input-7-609a893b41e6>\u001b[0m in \u001b[0;36msolveNQUtil\u001b[1;34m(board, col, n)\u001b[0m\n\u001b[0;32m     60\u001b[0m         \u001b[1;34m''' Check if queen can be placed on board[i][col]'''\u001b[0m\u001b[1;33m\u001b[0m\u001b[1;33m\u001b[0m\u001b[0m\n\u001b[0;32m     61\u001b[0m \u001b[1;33m\u001b[0m\u001b[0m\n\u001b[1;32m---> 62\u001b[1;33m         \u001b[1;32mif\u001b[0m \u001b[1;33m(\u001b[0m\u001b[0misSafe\u001b[0m\u001b[1;33m(\u001b[0m\u001b[0mboard\u001b[0m\u001b[1;33m,\u001b[0m \u001b[0mi\u001b[0m\u001b[1;33m,\u001b[0m \u001b[0mcol\u001b[0m\u001b[1;33m,\u001b[0m \u001b[0mn\u001b[0m\u001b[1;33m)\u001b[0m\u001b[1;33m)\u001b[0m\u001b[1;33m:\u001b[0m\u001b[1;33m\u001b[0m\u001b[1;33m\u001b[0m\u001b[0m\n\u001b[0m\u001b[0;32m     63\u001b[0m \u001b[1;33m\u001b[0m\u001b[0m\n\u001b[0;32m     64\u001b[0m             \u001b[1;31m# Place this queen in board[i][col]\u001b[0m\u001b[1;33m\u001b[0m\u001b[1;33m\u001b[0m\u001b[1;33m\u001b[0m\u001b[0m\n",
      "\u001b[1;32m<ipython-input-7-609a893b41e6>\u001b[0m in \u001b[0;36misSafe\u001b[1;34m(board, row, col, n)\u001b[0m\n\u001b[0;32m     11\u001b[0m \u001b[1;33m\u001b[0m\u001b[0m\n\u001b[0;32m     12\u001b[0m     \u001b[1;32mfor\u001b[0m \u001b[0mi\u001b[0m \u001b[1;32min\u001b[0m \u001b[0mrange\u001b[0m\u001b[1;33m(\u001b[0m\u001b[0mcol\u001b[0m\u001b[1;33m)\u001b[0m\u001b[1;33m:\u001b[0m\u001b[1;33m\u001b[0m\u001b[1;33m\u001b[0m\u001b[0m\n\u001b[1;32m---> 13\u001b[1;33m         \u001b[1;32mif\u001b[0m \u001b[1;33m(\u001b[0m\u001b[0mboard\u001b[0m\u001b[1;33m[\u001b[0m\u001b[0mrow\u001b[0m\u001b[1;33m]\u001b[0m\u001b[1;33m[\u001b[0m\u001b[0mi\u001b[0m\u001b[1;33m]\u001b[0m\u001b[1;33m)\u001b[0m\u001b[1;33m:\u001b[0m\u001b[1;33m\u001b[0m\u001b[1;33m\u001b[0m\u001b[0m\n\u001b[0m\u001b[0;32m     14\u001b[0m             \u001b[1;32mreturn\u001b[0m \u001b[1;32mFalse\u001b[0m\u001b[1;33m\u001b[0m\u001b[1;33m\u001b[0m\u001b[0m\n\u001b[0;32m     15\u001b[0m \u001b[1;33m\u001b[0m\u001b[0m\n",
      "\u001b[1;31mKeyboardInterrupt\u001b[0m: "
     ]
    }
   ],
   "source": [
    "profiler = cProfile.Profile()\n",
    "\n",
    "profiler.enable()\n",
    "solveNQ(15)\n",
    "profiler.disable()\n",
    "\n",
    "stats = pstats.Stats(profiler).sort_stats('ncalls')\n",
    "\n",
    "stats.strip_dirs()\n",
    "\n",
    "stats.print_stats()"
   ]
  },
  {
   "cell_type": "code",
   "execution_count": 21,
   "metadata": {},
   "outputs": [
    {
     "name": "stdout",
     "output_type": "stream",
     "text": [
      "         1106 function calls (954 primitive calls) in 0.001 seconds\n",
      "\n",
      "   Ordered by: standard name\n",
      "\n",
      "   ncalls  tottime  percall  cumtime  percall filename:lineno(function)\n",
      "      894    0.001    0.000    0.001    0.000 <ipython-input-7-609a893b41e6>:10(isSafe)\n",
      "    153/1    0.000    0.000    0.001    0.001 <ipython-input-7-609a893b41e6>:43(solveNQUtil)\n",
      "        1    0.000    0.000    0.001    0.001 <ipython-input-7-609a893b41e6>:88(solveNQ)\n",
      "        1    0.000    0.000    0.000    0.000 <ipython-input-7-609a893b41e6>:91(<listcomp>)\n",
      "        1    0.000    0.000    0.001    0.001 <string>:1(<module>)\n",
      "        1    0.000    0.000    0.001    0.001 {built-in method builtins.exec}\n",
      "       24    0.000    0.000    0.000    0.000 {built-in method builtins.len}\n",
      "       28    0.000    0.000    0.000    0.000 {method 'append' of 'list' objects}\n",
      "        1    0.000    0.000    0.000    0.000 {method 'clear' of 'list' objects}\n",
      "        1    0.000    0.000    0.000    0.000 {method 'disable' of '_lsprof.Profiler' objects}\n",
      "        1    0.000    0.000    0.000    0.000 {method 'sort' of 'list' objects}\n",
      "\n",
      "\n"
     ]
    }
   ],
   "source": [
    "cProfile.run(\"solveNQ(6)\")"
   ]
  },
  {
   "cell_type": "code",
   "execution_count": 12,
   "metadata": {},
   "outputs": [
    {
     "name": "stdout",
     "output_type": "stream",
     "text": [
      "Q   1   1   1   1   1   1   1\n",
      "1   1   1   1   Q   1   1   1\n",
      "1   1   1   1   1   1   1   Q\n",
      "1   1   1   1   1   Q   1   1\n",
      "1   1   Q   1   1   1   1   1\n",
      "1   1   1   1   1   1   Q   1\n",
      "1   Q   1   1   1   1   1   1\n",
      "1   1   1   Q   1   1   1   1\n"
     ]
    }
   ],
   "source": [
    "bt_solutions = []\n",
    "\n",
    "for board in res:\n",
    "    bt_solutions.append(ChessBoard(board))\n",
    "    \n",
    "bt_solutions[0].disp_chess_board()"
   ]
  },
  {
   "cell_type": "code",
   "execution_count": 52,
   "metadata": {},
   "outputs": [
    {
     "name": "stdout",
     "output_type": "stream",
     "text": [
      "70.3 µs ± 948 ns per loop (mean ± std. dev. of 7 runs, 10000 loops each)\n",
      "27.5 µs ± 253 ns per loop (mean ± std. dev. of 7 runs, 10000 loops each)\n",
      "351 µs ± 4.04 µs per loop (mean ± std. dev. of 7 runs, 1000 loops each)\n",
      "93.6 µs ± 1.53 µs per loop (mean ± std. dev. of 7 runs, 10000 loops each)\n",
      "2.16 ms ± 33.7 µs per loop (mean ± std. dev. of 7 runs, 100 loops each)\n",
      "361 µs ± 5.25 µs per loop (mean ± std. dev. of 7 runs, 1000 loops each)\n",
      "15.8 ms ± 267 µs per loop (mean ± std. dev. of 7 runs, 100 loops each)\n",
      "1.2 ms ± 3.06 µs per loop (mean ± std. dev. of 7 runs, 1000 loops each)\n",
      "130 ms ± 1.09 ms per loop (mean ± std. dev. of 7 runs, 10 loops each)\n",
      "5.19 ms ± 31.1 µs per loop (mean ± std. dev. of 7 runs, 100 loops each)\n",
      "1.23 s ± 9.81 ms per loop (mean ± std. dev. of 7 runs, 1 loop each)\n",
      "22.3 ms ± 186 µs per loop (mean ± std. dev. of 7 runs, 10 loops each)\n",
      "13.1 s ± 24.4 ms per loop (mean ± std. dev. of 7 runs, 1 loop each)\n",
      "105 ms ± 575 µs per loop (mean ± std. dev. of 7 runs, 10 loops each)\n"
     ]
    }
   ],
   "source": [
    "bf_timeit = []\n",
    "backt_timeit = []\n",
    "\n",
    "bf_timeit_avg = []\n",
    "backt_timeit_avg = []\n",
    "\n",
    "# Time Complexity of Brute Force\n",
    "for x in range (3, 10):\n",
    "    time1 = %timeit -o brute_force_approach(x)\n",
    "    bf_timeit.append(time1)\n",
    "    bf_timeit_avg.append(np.average(time1.timings))\n",
    "    \n",
    "    \n",
    "    # Time COmplexity of BackTracking\n",
    "    time2 = %timeit -o solveNQ(x)\n",
    "    backt_timeit.append(time2)\n",
    "    backt_timeit_avg.append(np.average(time2.timings))"
   ]
  },
  {
   "cell_type": "code",
   "execution_count": 54,
   "metadata": {},
   "outputs": [],
   "source": [
    "n_values = [x for x in range(3, 10)]"
   ]
  },
  {
   "cell_type": "code",
   "execution_count": 67,
   "metadata": {},
   "outputs": [
    {
     "name": "stdout",
     "output_type": "stream",
     "text": [
      "[7.027957428571036e-05, 0.0003513099714291457, 0.002161682285721846, 0.015788572857137684, 0.13016544571437408, 1.2294526857138928, 13.149607871428868]\n",
      "[2.745247999997186e-05, 9.357837571421571e-05, 0.0003613809571428906, 0.0011976354142861966, 0.005188214142851523, 0.02232177714291278, 0.10482229000008374]\n"
     ]
    }
   ],
   "source": [
    "print(bf_timeit_avg)\n",
    "print(backt_timeit_avg)"
   ]
  },
  {
   "cell_type": "code",
   "execution_count": 80,
   "metadata": {},
   "outputs": [
    {
     "data": {
      "image/png": "[encoded data removed]",
      "text/plain": [
       "<Figure size 720x576 with 1 Axes>"
      ]
     },
     "metadata": {
      "needs_background": "light"
     },
     "output_type": "display_data"
    }
   ],
   "source": [
    "plt.figure(figsize=(10, 8))\n",
    "plt.plot(n_values, bf_timeit_avg, label = \"Brute Force\")\n",
    "plt.plot(n_values, backt_timeit_avg, label = \"Back Tracking\")\n",
    "plt.ylabel('Milliseconds')\n",
    "plt.xlabel('N')\n",
    "plt.title('Run time of N Queens vs Value of N')\n",
    "plt.legend()\n",
    "\n",
    "plt.savefig(\"n_queens_brute_vs_back.png\")"
   ]
  }
 ],
 "metadata": {
  "kernelspec": {
   "display_name": "Python 3",
   "language": "python",
   "name": "python3"
  },
  "language_info": {
   "codemirror_mode": {
    "name": "ipython",
    "version": 3
   },
   "file_extension": ".py",
   "mimetype": "text/x-python",
   "name": "python",
   "nbconvert_exporter": "python",
   "pygments_lexer": "ipython3",
   "version": "3.8.3"
  }
 },
 "nbformat": 4,
 "nbformat_minor": 5
}
