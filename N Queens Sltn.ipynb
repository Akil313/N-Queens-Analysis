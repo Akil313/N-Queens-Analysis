{
 "cells": [
  {
   "cell_type": "code",
   "execution_count": 21,
   "id": "74928d00",
   "metadata": {},
   "outputs": [],
   "source": [
    "import numpy as np\n",
    "import matplotlib.pyplot as plt\n",
    "import seaborn as sns"
   ]
  },
  {
   "cell_type": "code",
   "execution_count": 2,
   "id": "07c81463",
   "metadata": {},
   "outputs": [],
   "source": [
    "class ChessBoard :\n",
    "    \n",
    "    def __init__(self, board):\n",
    "        self.board = board\n",
    "        self.display = []\n",
    "        self.size = len(board)\n",
    "        \n",
    "        for x in range(self.size):\n",
    "            row = []\n",
    "            for y in range(self.size):\n",
    "                if board[x] == y:\n",
    "                    row.append('Q')\n",
    "                else:\n",
    "                    row.append(1)\n",
    "                    \n",
    "            self.display.append(row)\n",
    "            \n",
    "    def disp_chess_board(self):\n",
    "        for row in self.display:\n",
    "            print(*row, sep='   ')\n",
    "            \n",
    "    def is_solution(self):\n",
    "        for x in range(len(self.board)-1):    \n",
    "            for y in range(x+1, len(self.board)):\n",
    "                    \n",
    "                if abs(x - y) == abs(self.board[x] - self.board[y]):\n",
    "                    return False    \n",
    "        return True\n",
    "        "
   ]
  },
  {
   "cell_type": "code",
   "execution_count": 3,
   "id": "eea1ba9b",
   "metadata": {},
   "outputs": [],
   "source": [
    "def init_bf_boards(board_list, board, size):\n",
    "    if len(board) == size:\n",
    "        board_list.append(board.copy())\n",
    "        return\n",
    "    \n",
    "    for col in range(size):\n",
    "        if(col not in board):\n",
    "            board.append(col)\n",
    "            init_bf_boards(board_list, board, size)\n",
    "            board.pop()\n",
    "            \n",
    "    return board_list"
   ]
  },
  {
   "cell_type": "code",
   "execution_count": 4,
   "id": "5a7bc464",
   "metadata": {},
   "outputs": [],
   "source": [
    "def brute_force_approach(N):\n",
    "    \n",
    "    queen_solutions = []\n",
    "    board_list = init_bf_boards([], [], N)\n",
    "    \n",
    "    for board in board_list:\n",
    "        cb = ChessBoard(board)\n",
    "        \n",
    "        if cb.is_solution():\n",
    "            \n",
    "            queen_solutions.append(cb)\n",
    "        \n",
    "    return queen_solutions"
   ]
  },
  {
   "cell_type": "code",
   "execution_count": 8,
   "id": "90bbce68",
   "metadata": {},
   "outputs": [],
   "source": [
    "solutions = brute_force_approach(4)"
   ]
  },
  {
   "cell_type": "code",
   "execution_count": 9,
   "id": "734acd33",
   "metadata": {},
   "outputs": [
    {
     "name": "stdout",
     "output_type": "stream",
     "text": [
      "1   1   Q   1\n",
      "Q   1   1   1\n",
      "1   1   1   Q\n",
      "1   Q   1   1\n"
     ]
    }
   ],
   "source": [
    "solutions[1].disp_chess_board()"
   ]
  },
  {
   "cell_type": "code",
   "execution_count": 10,
   "id": "3ac4d335",
   "metadata": {},
   "outputs": [],
   "source": [
    "result = []\n",
    "\n",
    "''' A utility function to check if a queen can\n",
    "be placed on board[row][col]. Note that this\n",
    "function is called when \"col\" queens are\n",
    "already placed in columns from 0 to col -1.\n",
    "So we need to check only left side for\n",
    "attacking queens '''\n",
    "\n",
    "def isSafe(board, row, col, n):\n",
    "    \n",
    "    for i in range(col):\n",
    "        if (board[row][i]):\n",
    "            return False\n",
    "        \n",
    "    # Check upper diagonal on left side\n",
    "    i = row\n",
    "    j = col\n",
    "    \n",
    "    while i >= 0 and j >= 0:\n",
    "        if(board[i][j]):\n",
    "            return False\n",
    "        \n",
    "        i -= 1\n",
    "        j -= 1\n",
    "        \n",
    "    # Check lower diagonal on left side\n",
    "    i = row\n",
    "    j = col\n",
    "    \n",
    "    while j>= 0 and i < n:\n",
    "        if(board[i][j]):\n",
    "            return False\n",
    "        \n",
    "        i = i + 1\n",
    "        j = j - 1\n",
    "        \n",
    "    return True\n",
    "\n",
    "''' A recursive utility function to solve N\n",
    "Queen problem '''\n",
    "\n",
    "def solveNQUtil(board, col, n):\n",
    "    ''' base case: If all queens are placed thenb return true'''\n",
    "    if (col == n):\n",
    "        v = []\n",
    "        for i in board:\n",
    "            for j in range(len(i)):\n",
    "                if i[j] == 1:\n",
    "                    v.append(j)\n",
    "        \n",
    "        result.append(v)\n",
    "        return True\n",
    "    \n",
    "    ''' Consider this column and try placing this queen in all rows one by one'''\n",
    "    \n",
    "    res = False\n",
    "    for i in range(n):\n",
    "        \n",
    "        ''' Check if queen can be placed on board[i][col]'''\n",
    "        \n",
    "        if (isSafe(board, i, col, n)):\n",
    "            \n",
    "            # Place this queen in board[i][col]\n",
    "            board[i][col] = 1\n",
    "            \n",
    "            #Make result true if any placement is possible\n",
    "            res = solveNQUtil(board, col + 1, n) or res\n",
    "            \n",
    "            '''If placing queen in board[i][col] doesnt\n",
    "            lead to a solution, then remove queen from board[i][col]'''\n",
    "            board[i][col] = 0   # BACKTRACK\n",
    "            \n",
    "        ''' If queen can not be placed in any row in this\n",
    "        column col then return false'''\n",
    "        \n",
    "    return res\n",
    "\n",
    "''' This function solves the N Queen problem using\n",
    "Backtracking. It mainly uses solveNQUtil() to\n",
    "solve the problem. It returns false if queens\n",
    "cannot be placed, otherwise return true and\n",
    "prints placement of queens in the form of 1s.\n",
    "Please note that there may be more than one\n",
    "solutions, this function prints one of the\n",
    "feasible solutions.'''\n",
    "\n",
    "def solveNQ(n):\n",
    "    result.clear()\n",
    "    \n",
    "    board = [[0 for j in range(n)] for i in range(n)]\n",
    "    \n",
    "    solveNQUtil(board, 0, n)\n",
    "    result.sort()\n",
    "    \n",
    "    return result"
   ]
  },
  {
   "cell_type": "code",
   "execution_count": 11,
   "id": "46af6475",
   "metadata": {},
   "outputs": [],
   "source": [
    "# Driver Code\n",
    "n = 8\n",
    "res = solveNQ(n)"
   ]
  },
  {
   "cell_type": "code",
   "execution_count": 12,
   "id": "7187634d",
   "metadata": {},
   "outputs": [
    {
     "name": "stdout",
     "output_type": "stream",
     "text": [
      "Q   1   1   1   1   1   1   1\n",
      "1   1   1   1   Q   1   1   1\n",
      "1   1   1   1   1   1   1   Q\n",
      "1   1   1   1   1   Q   1   1\n",
      "1   1   Q   1   1   1   1   1\n",
      "1   1   1   1   1   1   Q   1\n",
      "1   Q   1   1   1   1   1   1\n",
      "1   1   1   Q   1   1   1   1\n"
     ]
    }
   ],
   "source": [
    "bt_solutions = []\n",
    "\n",
    "for board in res:\n",
    "    bt_solutions.append(ChessBoard(board))\n",
    "    \n",
    "bt_solutions[0].disp_chess_board()"
   ]
  },
  {
   "cell_type": "code",
   "execution_count": 29,
   "id": "3a9dd569",
   "metadata": {},
   "outputs": [
    {
     "name": "stdout",
     "output_type": "stream",
     "text": [
      "30.1 µs ± 430 ns per loop (mean ± std. dev. of 7 runs, 10000 loops each)\n",
      "16.3 µs ± 120 ns per loop (mean ± std. dev. of 7 runs, 100000 loops each)\n",
      "153 µs ± 1.45 µs per loop (mean ± std. dev. of 7 runs, 10000 loops each)\n",
      "56.4 µs ± 1.03 µs per loop (mean ± std. dev. of 7 runs, 10000 loops each)\n",
      "961 µs ± 10.3 µs per loop (mean ± std. dev. of 7 runs, 1000 loops each)\n",
      "221 µs ± 4.07 µs per loop (mean ± std. dev. of 7 runs, 1000 loops each)\n",
      "7.05 ms ± 82.7 µs per loop (mean ± std. dev. of 7 runs, 100 loops each)\n",
      "754 µs ± 6.83 µs per loop (mean ± std. dev. of 7 runs, 1000 loops each)\n",
      "59.3 ms ± 584 µs per loop (mean ± std. dev. of 7 runs, 10 loops each)\n",
      "3.23 ms ± 26.7 µs per loop (mean ± std. dev. of 7 runs, 100 loops each)\n",
      "561 ms ± 5.67 ms per loop (mean ± std. dev. of 7 runs, 1 loop each)\n",
      "14.3 ms ± 55.1 µs per loop (mean ± std. dev. of 7 runs, 100 loops each)\n",
      "6 s ± 21.3 ms per loop (mean ± std. dev. of 7 runs, 1 loop each)\n",
      "67.6 ms ± 885 µs per loop (mean ± std. dev. of 7 runs, 10 loops each)\n"
     ]
    }
   ],
   "source": [
    "bf_timeit = backt_timeit = []\n",
    "\n",
    "# Time Complexity of Brute Force\n",
    "for x in range (3, 10):\n",
    "    time1 = %timeit -o brute_force_approach(x)\n",
    "    bf_timeit.append(time1)\n",
    "    \n",
    "    # Time COmplexity of BackTracking\n",
    "    time2 = %timeit -o solveNQ(x)\n",
    "    backt_timeit.append(time2)"
   ]
  },
  {
   "cell_type": "code",
   "execution_count": 19,
   "id": "fcc43114",
   "metadata": {},
   "outputs": [],
   "source": [
    "n_values = [x for x in range(3, 10)]"
   ]
  },
  {
   "cell_type": "code",
   "execution_count": 32,
   "id": "c9a0793c",
   "metadata": {},
   "outputs": [
    {
     "name": "stdout",
     "output_type": "stream",
     "text": [
      "[2.9628850000017337e-05, 2.9870710000022883e-05, 3.057901000001948e-05, 2.9919350000000122e-05, 3.0579069999976125e-05, 2.941378000000441e-05, 3.036877999998069e-05]\n"
     ]
    }
   ],
   "source": [
    "print(bf_timeit[0].timings)"
   ]
  },
  {
   "cell_type": "code",
   "execution_count": null,
   "id": "b3be03f2",
   "metadata": {},
   "outputs": [],
   "source": [
    "plt.plot(n_values, )"
   ]
  }
 ],
 "metadata": {
  "kernelspec": {
   "display_name": "Python 3",
   "language": "python",
   "name": "python3"
  },
  "language_info": {
   "codemirror_mode": {
    "name": "ipython",
    "version": 3
   },
   "file_extension": ".py",
   "mimetype": "text/x-python",
   "name": "python",
   "nbconvert_exporter": "python",
   "pygments_lexer": "ipython3",
   "version": "3.8.8"
  }
 },
 "nbformat": 4,
 "nbformat_minor": 5
}
